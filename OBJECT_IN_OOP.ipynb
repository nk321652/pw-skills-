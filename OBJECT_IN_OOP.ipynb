{
  "nbformat": 4,
  "nbformat_minor": 0,
  "metadata": {
    "colab": {
      "provenance": []
    },
    "kernelspec": {
      "name": "python3",
      "display_name": "Python 3"
    },
    "language_info": {
      "name": "python"
    }
  },
  "cells": [
    {
      "cell_type": "markdown",
      "source": [
        "In object oriented programming an obects a fundamental building block representing an instance of a class . It aencapsulates data and behaviour related to that class .\n",
        " consider a car class A car class can have attributes like color modle year and speed and it can have methods like start and it can have methods like start_enging , accelerate and break .An actual car object would be an instance of the car class and it would have specific values for its attributes .color=blue, model = toyota camry year = 2023 speed = 0 and could use the methods provided by the class.\n",
        "\n",
        ""
      ],
      "metadata": {
        "id": "_os7BKdgO0en"
      }
    }
  ]
}