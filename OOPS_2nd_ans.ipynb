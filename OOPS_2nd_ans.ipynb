{
  "nbformat": 4,
  "nbformat_minor": 0,
  "metadata": {
    "colab": {
      "provenance": []
    },
    "kernelspec": {
      "name": "python3",
      "display_name": "Python 3"
    },
    "language_info": {
      "name": "python"
    }
  },
  "cells": [
    {
      "cell_type": "markdown",
      "source": [
        "**Define class**"
      ],
      "metadata": {
        "id": "2vSKUG6GLK4Y"
      }
    },
    {
      "cell_type": "markdown",
      "source": [
        "In oop a class is a blueprint or templete for creating objects.\n",
        "it defines the structure and behaviour that the objects created the class will have this includes.\n",
        "\n",
        "\n",
        "\n",
        "\n",
        "*   Attributes : Data or variables that belong to thw class .\n",
        "*   Methods :Actions or behaviours the class can perform.\n",
        "\n",
        "\n",
        "\n"
      ],
      "metadata": {
        "id": "P3kZjO80LxC1"
      }
    },
    {
      "cell_type": "code",
      "source": [
        "class car:\n",
        "  def __init__(self,brand,color):\n",
        "    self.brnad = brand\n",
        "    self.color = color\n",
        "\n",
        "  def drive(self):\n",
        "    print(f\"The {self.color}{self.brand} is driving.\")\n",
        "\n",
        "  def drive(self):\n",
        "    print(f\"The {self.color}{self.brand} is driving.\")"
      ],
      "metadata": {
        "id": "q5PkoySiMZWe"
      },
      "execution_count": 35,
      "outputs": []
    }
  ]
}